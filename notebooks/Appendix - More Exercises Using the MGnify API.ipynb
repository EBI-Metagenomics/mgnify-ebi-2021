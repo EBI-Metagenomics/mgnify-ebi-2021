{
 "cells": [
  {
   "cell_type": "markdown",
   "id": "3be1d41e-2365-4c09-84c2-84e177cf254c",
   "metadata": {
    "tags": []
   },
   "source": [
    "# Metagenomics Bioinformatics Course - EBI MGnify 2021\n",
    "## MGnify Services and API - Practical exercise\n",
    "\n",
    "### Aims\n",
    "In this exercise, we will learn how to use the [Mgnify API](https://www.ebi.ac.uk/metagenomics/api/v1).\n",
    "\n",
    "- Discover the available data on the MGnify website\n",
    "- Learn how to use the MGnify API to fetch data using scripts or analysis notebooks\n",
    "\n",
    "### How this works\n",
    "This file is a [Jupyter Notebook](https://jupyter.org). \n",
    "It has instructions, and also code cells. The code cells are connected to Python, and you can run all of the code in a cell by pressing Play (▶) icon in the top bar, or pressing `shift + return`.\n",
    "The code libraries you should need are already installed."
   ]
  },
  {
   "cell_type": "markdown",
   "id": "9704e24e-b25c-4c5e-b02d-ecd4f23d085c",
   "metadata": {
    "jp-MarkdownHeadingCollapsed": true,
    "tags": []
   },
   "source": [
    "# Import packages"
   ]
  },
  {
   "cell_type": "markdown",
   "id": "3e524544",
   "metadata": {},
   "source": [
    "[pandas](https://pandas.pydata.org/docs/reference/index.html#api) is a data analysis library with a huge list of features. It is very good at holding and manipulating table data."
   ]
  },
  {
   "cell_type": "code",
   "execution_count": null,
   "id": "b1678360",
   "metadata": {},
   "outputs": [],
   "source": [
    "import pandas as pd"
   ]
  },
  {
   "cell_type": "markdown",
   "id": "e897ec25-52af-4e2b-9d90-e5c2e03da580",
   "metadata": {},
   "source": [
    "[jsonapi-client](https://pypi.org/project/jsonapi-client/) is a library to get formatted data from web services into python code"
   ]
  },
  {
   "cell_type": "code",
   "execution_count": null,
   "id": "c3effca5-84e9-4890-baad-20baf8073f69",
   "metadata": {},
   "outputs": [],
   "source": [
    "from jsonapi_client import Session as APISession\n",
    "from jsonapi_client import Modifier"
   ]
  },
  {
   "cell_type": "markdown",
   "id": "7fa11014-51f3-4b5c-8e62-1256e70a2423",
   "metadata": {
    "tags": []
   },
   "source": [
    "# The MGnify API\n",
    "## Core concepts\n",
    "An [API](https://en.wikipedia.org/wiki/API \"Application programming interface\") is how your scripts (e.g. Python or R) can talk to the MGnify database.\n",
    "\n",
    "The MGnify API uses [JSON](https://en.wikipedia.org/wiki/JSON \"Javascript Object Notation\") to transfer data in a systematic way. This is human-readable and computer-readable.\n",
    "\n",
    "The particular format we use is a standard called [JSON:API](https://jsonapi.org). \n",
    "There is a Python package ([`jsonapi_client`](https://pypi.org/project/jsonapi-client/)) to make consuming this data easy. We're using it here.\n",
    "\n",
    "The MGnify API has a \"browsable interface\", which is a human-friendly way of exploring the API. The URLs for the browsable API are exactly the same as you'd use in a script or code; but when you open those URLs in a browser you see a nice interface. Find it here: [https://www.ebi.ac.uk/metagenomics/api/v1/](https://www.ebi.ac.uk/metagenomics/api/v1/).\n",
    "\n",
    "The MGnify API is \"paginated\", i.e. when you list some data you are given it in multiple pages. This is because there can sometimes by thousands of results. Thankfully `jsonapi_client` handles this for us."
   ]
  },
  {
   "cell_type": "markdown",
   "id": "9aa11c78-1ea9-4a98-ada5-dd82a5f50a08",
   "metadata": {
    "tags": []
   },
   "source": [
    "## Example\n",
    "The MGnify website has a list of [\"Studies\"](https://www.ebi.ac.uk/metagenomics/browse).\n",
    "\n",
    "What the website is actually showing, is the data from an API endpoint (i.e. specific resource within the API) that lists those. It's here: [api/v1/studies](https://www.ebi.ac.uk/metagenomics/api/v1/studies). Have a look.\n",
    "\n",
    "Here is an example of some Python code, using two popular packages that let us write a short tidy piece of code:\n",
    "\n",
    "**Click into the next cell, and press `shift + return` (or click the ▶ icon on the menubar at the top) to run it.**"
   ]
  },
  {
   "cell_type": "code",
   "execution_count": null,
   "id": "b1faa7db",
   "metadata": {},
   "outputs": [],
   "source": [
    "endpoint = \"studies\"\n",
    "\n",
    "with APISession(\"https://www.ebi.ac.uk/metagenomics/api/v1\") as mgnify:\n",
    "    biome_filter = Modifier(\"lineage=root:Host-associated:Algae\")\n",
    "    resources = map(lambda r: r.json, mgnify.iterate(endpoint, filter=biome_filter))\n",
    "    resources = pd.json_normalize(resources)\n",
    "    resources.to_csv(f\"{endpoint}.csv\")\n",
    "resources"
   ]
  },
  {
   "cell_type": "markdown",
   "id": "c70c5920-17f3-4a8a-a68d-9d40d7f8ef9b",
   "metadata": {
    "tags": []
   },
   "source": [
    "## Line by line explanation\n",
    "\n",
    "```python\n",
    "### The packages were already imported, but if you wanted to use this snippet on it's own as a script you would import them like this:\n",
    "from jsonapi_client import Session as APISession\n",
    "import pandas as pd\n",
    "###\n",
    "\n",
    "\n",
    "endpoint = 'studies'\n",
    "# An \"endpoint\" is the specific resource within the API which we want to get data from. \n",
    "# It is the a URL relative to the \"server base URL\" of the API, which for MGnify is https://www.ebi.ac.uk/metagenomics/api/v1.\n",
    "# You can find the endpoints in the API Docs https://www.ebi.ac.uk/metagenomics/api/docs/ \n",
    "\n",
    "with APISession(\"https://www.ebi.ac.uk/metagenomics/api/v1\") as mgnify:\n",
    "    # Calling \"APISession\" is enabling a connection to the MGnify API, that can be used multiple times. \n",
    "    # The `with...as mgnify` syntax is a Python \"context\". \n",
    "    # Everything inside the `with...` block (i.e. indented below it) can use the `APISession` which we've called `mgnify` here. \n",
    "    # When the `with` block closes (the indentation stops), the connection to the API is nicely cleaned up for us.\n",
    "    \n",
    "    # Using a Modifier, we can filter the results from the API. \n",
    "    # The biome_filter will add the \"lineage=XXX\" to the query sent to the API\n",
    "    # This will be used by the API to filter the studies in the response by the biome specified in \"lineage\"\n",
    "    biome_filter = Modifier(\"lineage=root:Host-associated:Algae\")\n",
    "\n",
    "    resources = map(lambda r: r.json, mgnify.iterate(endpoint))\n",
    "    # `map` applies a function to every element of an iterable - so do something to each thing in a list.\n",
    "    # Remember we said the API is paginated? \n",
    "    # `mgnify.iterate(endpoint)` is a very helpful function that loops over as many pages of results as there are.\n",
    "    # `lambda r: r.json` is grabbing the JSON attribute from each Super Study returned from the API.\n",
    "    # All together, this makes `resources` be a bunch of JSON representations we could loop through, each containing the data of a Super Study.\n",
    "    \n",
    "    resources = pd.json_normalize(resources)\n",
    "    # `pd` is the de-facto shorthand for the `pandas` package - you'll see it anywhere people are using pandas.\n",
    "    # The `json_normalize` function takes \"nested\" data and does its best to turn it into a table.\n",
    "    # You can throw quite strange-looking data at it and it usually does something sensible.\n",
    "    \n",
    "    resources.to_csv(f\"{endpoint}.csv\")\n",
    "    # Pandas has a built-in way of writing CSV (or TSV, etc) files, which is helpful for getting data into other tools.\n",
    "    # This writes the table-ified Super Study list to a file called `super-studies.csv`.\n",
    "    \n",
    "resources\n",
    "# In a Jupyter notebook, you can just write a variable name in a cell (or the last line of a long cell), and it will print it.\n",
    "# Jupyter knows how to display Pandas tables (actually called \"DataFrames\", because they are More Than Just Tables ™) in a pretty way.\n",
    "```\n"
   ]
  },
  {
   "cell_type": "markdown",
   "id": "b5b2872c-9e84-4c91-8cb9-1216f2099986",
   "metadata": {
    "tags": []
   },
   "source": [
    "# Task - Get a study from the API\n",
    "**In the cell below, complete the Python code to fetch the study _MGYS00002045_ [Study MGYS00002045 MGnify API endpoint](https://www.ebi.ac.uk/metagenomics/api/v1/studies/MGYS00002045), and show the study data in a table.**\n"
   ]
  },
  {
   "cell_type": "code",
   "execution_count": null,
   "id": "bece0caa-1ab1-4626-ad6f-4680d8fd334a",
   "metadata": {},
   "outputs": [],
   "source": [
    "# Complete this code\n",
    "resource = \n",
    "accession = \n",
    "\n",
    "with APISession(\"https://www.ebi.ac.uk/metagenomics/api/v1\") as    :\n",
    "    study = mgnify.get(resource, accession).resource\n",
    "    study = \n",
    "study"
   ]
  },
  {
   "cell_type": "markdown",
   "id": "27532217-e304-4d7f-b89b-7a0921833020",
   "metadata": {
    "tags": []
   },
   "source": [
    "## Solution\n",
    "Unhide these cells to see a solution"
   ]
  },
  {
   "cell_type": "code",
   "execution_count": null,
   "id": "e1d16709-2677-44e8-94a4-f16e0682bb8a",
   "metadata": {
    "jupyter": {
     "source_hidden": true
    },
    "tags": []
   },
   "outputs": [],
   "source": [
    "resource = \"studies\"\n",
    "accession = \"MGYS00002045\"\n",
    "\n",
    "with APISession(\"https://www.ebi.ac.uk/metagenomics/api/v1\") as mgnify:\n",
    "    study = mgnify.get(resource, accession).resource\n",
    "    study = pd.json_normalize(study.json)\n",
    "study"
   ]
  }
 ],
 "metadata": {
  "interpreter": {
   "hash": "c2e909ea68d00cf590af4aa2de30821786e45b8e11ea607135c2643544907b22"
  },
  "kernelspec": {
   "display_name": "Python 3 (ipykernel)",
   "language": "python",
   "name": "python3"
  },
  "language_info": {
   "codemirror_mode": {
    "name": "ipython",
    "version": 3
   },
   "file_extension": ".py",
   "mimetype": "text/x-python",
   "name": "python",
   "nbconvert_exporter": "python",
   "pygments_lexer": "ipython3",
   "version": "3.9.7"
  },
  "toc-autonumbering": true,
  "toc-showcode": false,
  "toc-showmarkdowntxt": false
 },
 "nbformat": 4,
 "nbformat_minor": 5
}
