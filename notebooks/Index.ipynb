{
 "cells": [
  {
   "cell_type": "markdown",
   "id": "9b061012-7276-460a-b3ec-b39ff0ccaf5d",
   "metadata": {},
   "source": [
    "# Python notebooks for the SymbNet course (2022)\n",
    "Welcome!\n",
    "\n",
    "This is a Jupyter Lab environment.\n",
    "\n",
    "We have two notebooks for you to use: one for the practical session on Day 3, and an extra one you might find helpful in your own time.\n",
    "\n",
    "The tabs should already be open for you, or you can find them in the File Browser on the left, in the `notebook` directory.\n",
    "\n",
    "## Notebooks\n",
    "[Day 3](<./Day 3 - MAG Catalogues Practical.ipynb>)\n",
    "\n",
    "[Appendix](<./Appendix - More Exercises Using the MGNIFY API.ipynb>)\n",
    "\n",
    "## Docs for the course\n",
    "[Online docs to follow](https://mgnify-symbnet-2022.readthedocs.io/en/latest/index.html)\n",
    "\n",
    "\n",
    "### Jupyter Kernel selection, if things are working\n",
    "Make sure each notebook is using the \"mgnify-ebi-2022\" kernel:\n",
    "![select the mgnify-ebi-2022 kernel](./assets/jupyter-kernel-selection.png)\n",
    "\n",
    "For more info: [open the readme](<../README.md>)"
   ]
  },
  {
   "cell_type": "code",
   "execution_count": 3,
   "id": "eaf96742-edd1-470a-a082-da41ffabd628",
   "metadata": {},
   "outputs": [],
   "source": [
    "# p.s. this is also a Python notebook, so you can use it as a coding scratch area."
   ]
  },
  {
   "cell_type": "code",
   "execution_count": null,
   "id": "32a6c7de-8c42-4d7d-9008-8aa2d4d666ae",
   "metadata": {},
   "outputs": [],
   "source": []
  }
 ],
 "metadata": {
  "kernelspec": {
   "display_name": "mgnify-ebi-2021",
   "language": "python",
   "name": "mgnify-ebi-2021"
  },
  "language_info": {
   "codemirror_mode": {
    "name": "ipython",
    "version": 3
   },
   "file_extension": ".py",
   "mimetype": "text/x-python",
   "name": "python",
   "nbconvert_exporter": "python",
   "pygments_lexer": "ipython3",
   "version": "3.9.9"
  }
 },
 "nbformat": 4,
 "nbformat_minor": 5
}
